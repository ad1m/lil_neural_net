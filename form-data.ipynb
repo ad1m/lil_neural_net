{
 "cells": [
  {
   "cell_type": "code",
   "execution_count": 2,
   "metadata": {},
   "outputs": [
    {
     "name": "stderr",
     "output_type": "stream",
     "text": [
      "/anaconda3/lib/python3.6/importlib/_bootstrap.py:219: RuntimeWarning: compiletime version 3.5 of module 'tensorflow.python.framework.fast_tensor_util' does not match runtime version 3.6\n",
      "  return f(*args, **kwds)\n",
      "/anaconda3/lib/python3.6/site-packages/h5py/__init__.py:36: FutureWarning: Conversion of the second argument of issubdtype from `float` to `np.floating` is deprecated. In future, it will be treated as `np.float64 == np.dtype(float).type`.\n",
      "  from ._conv import register_converters as _register_converters\n"
     ]
    }
   ],
   "source": [
    "import glob\n",
    "import numpy as np\n",
    "import json\n",
    "import re\n",
    "import gpt_2_simple as gpt2"
   ]
  },
  {
   "cell_type": "markdown",
   "metadata": {},
   "source": [
    "<h4>Get All Lyrics:</h4>"
   ]
  },
  {
   "cell_type": "code",
   "execution_count": 89,
   "metadata": {},
   "outputs": [
    {
     "name": "stdout",
     "output_type": "stream",
     "text": [
      "1415\n"
     ]
    }
   ],
   "source": [
    "files  = glob.glob('lyrics/**/*json')\n",
    "l = []\n",
    "for i in files: \n",
    "    with open(i, 'r') as f:\n",
    "        d = json.load(f)\n",
    "        l.append(d)\n",
    "print(len(l))"
   ]
  },
  {
   "cell_type": "code",
   "execution_count": 23,
   "metadata": {},
   "outputs": [],
   "source": [
    "#files  = glob.glob('lyrics/Drake/*json')\n",
    "#l = []\n",
    "#for i in files: \n",
    "#    with open(i, 'r') as f:\n",
    "#        d = json.load(f)\n",
    "#        l.append(d)"
   ]
  },
  {
   "cell_type": "markdown",
   "metadata": {},
   "source": [
    "<h4>Convert Lyrics to Text File to finetune GPT-2:</h4>"
   ]
  },
  {
   "cell_type": "code",
   "execution_count": 93,
   "metadata": {},
   "outputs": [
    {
     "name": "stdout",
     "output_type": "stream",
     "text": [
      "File Written\n"
     ]
    }
   ],
   "source": [
    "def get_input_output(lyric,artist,num_input_lines): \n",
    "    '''\n",
    "    First Bar of Verse 1 is input, rest of song is output\n",
    "    '''\n",
    "    ind = lyric.find(\"[Verse 1: {}]\".format(artist))\n",
    "    if ind == -1:\n",
    "         ind = lyric.find(\"[Verse 1]\")\n",
    "    bar0 = \"\\n\".join(lyric[ind:].split(\"\\n\")[1:num_input_lines+1])\n",
    "    rest = lyric[ind:].split(\"\\n\")[num_input_lines+1:]\n",
    "    rest = \"\\n\".join(rest)\n",
    "    rest = re.sub(\"[\\[].*?[\\]]\", \"\", rest)\n",
    "    return bar0, rest\n",
    "\n",
    "lyrics_io = []\n",
    "for i in l:  \n",
    "    artist = i['artist']\n",
    "    lyric = i['songs'][0]['lyrics']\n",
    "    bar0, rest = get_input_output(lyric,artist,4)\n",
    "    d = {}\n",
    "    d['input'] = bar0\n",
    "    d['output'] = rest\n",
    "    lyrics_io.append(d)\n",
    "\n",
    "\n",
    "def get_finetune_text(lyrics_io,filename):\n",
    "    dta = \"<|endoftext|>\".join(\"{0}|{1}\".format(j['input'], j['output']) for j in lyrics_io)\n",
    "    Path(filename).write_text(dta)\n",
    "    print('File Written')\n",
    "    \n",
    "get_finetune_text(lyrics_io,\"test.txt\")"
   ]
  },
  {
   "cell_type": "markdown",
   "metadata": {},
   "source": [
    "<h4>Download GPT-2 Model:</h4>"
   ]
  },
  {
   "cell_type": "code",
   "execution_count": 1,
   "metadata": {},
   "outputs": [
    {
     "name": "stderr",
     "output_type": "stream",
     "text": [
      "/anaconda3/lib/python3.6/importlib/_bootstrap.py:219: RuntimeWarning: compiletime version 3.5 of module 'tensorflow.python.framework.fast_tensor_util' does not match runtime version 3.6\n",
      "  return f(*args, **kwds)\n",
      "/anaconda3/lib/python3.6/site-packages/h5py/__init__.py:36: FutureWarning: Conversion of the second argument of issubdtype from `float` to `np.floating` is deprecated. In future, it will be treated as `np.float64 == np.dtype(float).type`.\n",
      "  from ._conv import register_converters as _register_converters\n"
     ]
    }
   ],
   "source": [
    "import gpt_2_simple as gpt2\n",
    "\n",
    "#gpt2.download_gpt2()   # model is saved into current directory under /models/117M/"
   ]
  },
  {
   "cell_type": "markdown",
   "metadata": {},
   "source": [
    "<h4>FineTune Model:</h4>"
   ]
  },
  {
   "cell_type": "code",
   "execution_count": null,
   "metadata": {},
   "outputs": [],
   "source": [
    "model_name = '117M'\n",
    "sess = gpt2.start_tf_sess()\n",
    "gpt2.finetune(sess,\n",
    "              'test.txt',\n",
    "              model_name=model_name,\n",
    "              steps=1)   # steps is max number of training steps\n",
    "\n",
    "gpt2.generate(sess)"
   ]
  },
  {
   "cell_type": "markdown",
   "metadata": {},
   "source": [
    "<h4>Restart Notebook:</h4>"
   ]
  },
  {
   "cell_type": "code",
   "execution_count": 3,
   "metadata": {},
   "outputs": [
    {
     "name": "stdout",
     "output_type": "stream",
     "text": [
      "Loading checkpoint checkpoint/run1/model-1\n",
      "INFO:tensorflow:Restoring parameters from checkpoint/run1/model-1\n"
     ]
    }
   ],
   "source": [
    "sess = gpt2.start_tf_sess()\n",
    "gpt2.load_gpt2(sess)\n",
    "#preds = gpt2.generate(sess,run_name='run1', return_as_list=True)[0]\n",
    "#print(preds)"
   ]
  },
  {
   "cell_type": "code",
   "execution_count": 4,
   "metadata": {},
   "outputs": [],
   "source": [
    "preds = gpt2.generate(sess,run_name='run1', return_as_list=True)[0]"
   ]
  },
  {
   "cell_type": "code",
   "execution_count": null,
   "metadata": {},
   "outputs": [],
   "source": []
  }
 ],
 "metadata": {
  "kernelspec": {
   "display_name": "Python 3",
   "language": "python",
   "name": "python3"
  },
  "language_info": {
   "codemirror_mode": {
    "name": "ipython",
    "version": 3
   },
   "file_extension": ".py",
   "mimetype": "text/x-python",
   "name": "python",
   "nbconvert_exporter": "python",
   "pygments_lexer": "ipython3",
   "version": "3.6.5"
  }
 },
 "nbformat": 4,
 "nbformat_minor": 2
}
