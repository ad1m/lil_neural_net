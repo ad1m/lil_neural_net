{
 "cells": [
  {
   "cell_type": "markdown",
   "metadata": {},
   "source": [
    "<h4>Imports:</h4>"
   ]
  },
  {
   "cell_type": "code",
   "execution_count": 12,
   "metadata": {},
   "outputs": [],
   "source": [
    "import numpy as np\n",
    "import pandas as pd\n",
    "import lyricsgenius\n",
    "import os\n",
    "import time"
   ]
  },
  {
   "cell_type": "markdown",
   "metadata": {},
   "source": [
    "<h4>Load Credentials:</h4>\n",
    "<p>We have a config csv file that has the stored credentials consiting of the client_id, client_secret, and the access token. We load these into a dataframea and then extract their values.</p>"
   ]
  },
  {
   "cell_type": "code",
   "execution_count": 10,
   "metadata": {},
   "outputs": [],
   "source": [
    "df_credentials = pd.read_csv('../config.csv')\n",
    "client_id = df_credentials.client_id.tolist()[0]\n",
    "client_secret = df_credentials.client_secret.tolist()[0]\n",
    "access_token = df_credentials.access_token.tolist()[0]"
   ]
  },
  {
   "cell_type": "markdown",
   "metadata": {},
   "source": [
    "<h4>Gather Lyrics:</h4>"
   ]
  },
  {
   "cell_type": "code",
   "execution_count": null,
   "metadata": {},
   "outputs": [],
   "source": [
    "artists = [\n",
    "    #'Rae Sremmurd',\n",
    "    #'Trouble', \n",
    "    #'2 Chainz', \n",
    "    #'Da Baby', \n",
    "    #'Lil Pump', \n",
    "    #'Tyler The Creator', \n",
    "    #'Drake', \n",
    "    #'Trippie Redd', \n",
    "    #'J Cole', \n",
    "    #'Valee', \n",
    "    #'Sheck Wes',  \n",
    "    #'Future', \n",
    "    #'Tyga',  \n",
    "    #'Waka Flocka Flame', \n",
    "    #'Blueface', \n",
    "    #'OG Maco', \n",
    "    #'Rich The Kid', \n",
    "    #'Blac Youngsta', \n",
    "    #'Young Thug', \n",
    "    #'Lil Keed', \n",
    "    #'YG', \n",
    "    #'Moneybagg Yo',  \n",
    "    #'BlocBoy JB',  \n",
    "    #'Z Money', \n",
    "    #'Kodak Black', \n",
    "    'Lil Uzi Vert', \n",
    "    'Juice World', \n",
    "    'Young Nudy', \n",
    "    'Chief Keef', \n",
    "    'YNW Melly', \n",
    "    'Lil Baby', \n",
    "    'Gunna', \n",
    "    'Migos', \n",
    "    'Roddy Rich', \n",
    "    'Larry June', \n",
    "    'Lil Nas X', \n",
    "    'Mustard', \n",
    "    'French Montana', \n",
    "    'Gucci Mane', \n",
    "    'Meek Mill', \n",
    "    'A Boogie wit da Hoodie',  \n",
    "    '21 Savage', \n",
    "    'Lil Skies', \n",
    "    'Post Malone', \n",
    "]\n",
    "\n",
    "def get_lyrics(access_token,artist,num_songs):\n",
    "    '''\n",
    "    Save the lyrics for each song in a \n",
    "    '''\n",
    "    artist_save = artist.replace(\" \",\"_\")\n",
    "    directory = 'lyrics/'+artist_save\n",
    "    if not os.path.exists(directory):\n",
    "        os.mkdir(directory)\n",
    "    os.chdir(directory)\n",
    "    genius = lyricsgenius.Genius(client_access_token=access_token)\n",
    "    songs_by_artist = genius.search_artist(artist, max_songs=num_songs)\n",
    "    songs = songs_by_artist.save_lyrics(overwrite='y')\n",
    "    os.chdir('../../')\n",
    "    return\n",
    "\n",
    "for idx,artist in enumerate(artists): \n",
    "    get_lyrics(access_token,artist,100)\n",
    "    if idx % 5 == 0: \n",
    "        time.sleep(10)"
   ]
  },
  {
   "cell_type": "code",
   "execution_count": 20,
   "metadata": {},
   "outputs": [],
   "source": [
    "os.chdir('../../')"
   ]
  },
  {
   "cell_type": "code",
   "execution_count": null,
   "metadata": {},
   "outputs": [],
   "source": []
  }
 ],
 "metadata": {
  "kernelspec": {
   "display_name": "Python 3",
   "language": "python",
   "name": "python3"
  },
  "language_info": {
   "codemirror_mode": {
    "name": "ipython",
    "version": 3
   },
   "file_extension": ".py",
   "mimetype": "text/x-python",
   "name": "python",
   "nbconvert_exporter": "python",
   "pygments_lexer": "ipython3",
   "version": "3.6.5"
  }
 },
 "nbformat": 4,
 "nbformat_minor": 2
}
